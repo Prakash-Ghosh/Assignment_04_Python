{
 "cells": [
  {
   "cell_type": "markdown",
   "metadata": {},
   "source": [
    "# PYTHON - 4 - Assignment\n",
    "\n",
    "##    By Prakash Ghosh\n",
    "------"
   ]
  },
  {
   "cell_type": "markdown",
   "metadata": {},
   "source": [
    "### Problem 1.1 Write a Python Program(with class concepts) to find the area of the triangle using the below formula. \n",
    "area = (s*(s-a)*(s-b)*(s-c)) ** 0.5 <br>\n",
    "Function to take the length of the sides of triangle from user should be defined in the parent class and function to calculate the area should be defined in subclass."
   ]
  },
  {
   "cell_type": "code",
   "execution_count": 1,
   "metadata": {},
   "outputs": [
    {
     "name": "stdout",
     "output_type": "stream",
     "text": [
      "Enter SideA:\t12\n",
      "Enter SideB:\t15\n",
      "Enter SideC:\t20\n",
      "Area:\t\t89.66569856974293\n"
     ]
    }
   ],
   "source": [
    "import math\n",
    "\n",
    "class TriangleDifinition:\n",
    "    def __init__(self):\n",
    "            self.SideA=float(input('Enter SideA:\\t'))            \n",
    "            self.SideB=float(input('Enter SideB:\\t'))\n",
    "            self.SideC=float(input('Enter SideC:\\t'))\n",
    "                      \n",
    "class Triangle(TriangleDifinition):    \n",
    "    def Area(self):        \n",
    "        a=self.SideA\n",
    "        b=self.SideB\n",
    "        c=self.SideC\n",
    "        s=(a+b+c)/2  \n",
    "        if (s*(s-a)*(s-b)*(s-c)) >=0:\n",
    "            area = \"Area:\\t\\t\" + str((s*(s-a)*(s-b)*(s-c)) ** 0.5)\n",
    "        else:\n",
    "            area = \"Area:\\t\\tInvalid Input!!\"\n",
    "        return (area)\n",
    "\n",
    "# Call the Triangle Class with the side value and calculate area   \n",
    "Triangle1 = Triangle()\n",
    "print(Triangle1.Area())"
   ]
  },
  {
   "cell_type": "markdown",
   "metadata": {},
   "source": [
    "### Problem 1.2 Write a function filter_long_words() that takes a list of words and an integer n and returns the list of words that are longer than n.\n"
   ]
  },
  {
   "cell_type": "code",
   "execution_count": 2,
   "metadata": {},
   "outputs": [
    {
     "name": "stdout",
     "output_type": "stream",
     "text": [
      "Input Word List:\n",
      "\t ['Write', 'a', 'function', 'filter_long_words()', 'that', 'takes', 'a', 'list', 'of', 'words']\n",
      "\n",
      "Result list:\n",
      "\t ['Write', 'function', 'filter_long_words()', 'takes', 'words']\n"
     ]
    }
   ],
   "source": [
    "def filter_long_words(listOfWords,n):\n",
    "    lstOutput=[Word for Word in listOfWords if len(Word)>n]\n",
    "    return lstOutput\n",
    "\n",
    "\n",
    "# Call filter_long_words with a list of Words\n",
    "lst=list('Write a function filter_long_words() that takes a list of words'.split(' '))\n",
    "print('Input Word List:\\n\\t', lst)\n",
    "print('\\nResult list:\\n\\t', filter_long_words(lst,4))"
   ]
  },
  {
   "cell_type": "markdown",
   "metadata": {},
   "source": [
    "### Problem 2.1 Write a Python program using function concept that maps list of words into a list of integers representing the lengths of the corresponding words.<br>\n",
    "Hint: If a list [ ab,cde,erty] is passed on to the python function output should come as [2,3,4] <br>\n",
    "Here 2,3 and 4 are the lengths of the words in the list."
   ]
  },
  {
   "cell_type": "code",
   "execution_count": 3,
   "metadata": {},
   "outputs": [
    {
     "name": "stdout",
     "output_type": "stream",
     "text": [
      "Input Word List:\n",
      "\t ['Write', 'a', 'Python', 'program', 'using', 'function']\n",
      "\n",
      "Result list:\n",
      "\t [5, 1, 6, 7, 5, 8]\n"
     ]
    }
   ],
   "source": [
    "def LenthOfWords(listOfwords):\n",
    "    lstOutput=[len(Word) for Word in listOfwords]\n",
    "    return lstOutput   \n",
    "\n",
    "# Call filter_long_words with a list of Words\n",
    "lst=list('Write a Python program using function'.split(' '))\n",
    "print('Input Word List:\\n\\t', lst)\n",
    "print('\\nResult list:\\n\\t', LenthOfWords(lst))"
   ]
  },
  {
   "cell_type": "markdown",
   "metadata": {},
   "source": [
    "### Problem 2.2 Write a Python function which takes a character (i.e. a string of length 1) and returns True if it is a vowel, False otherwise."
   ]
  },
  {
   "cell_type": "code",
   "execution_count": 5,
   "metadata": {},
   "outputs": [
    {
     "name": "stdout",
     "output_type": "stream",
     "text": [
      "Enter a chatacher: \ta\n",
      "Is the char vowel?\t True\n"
     ]
    }
   ],
   "source": [
    "def isVowel(char):\n",
    "    bOut = False \n",
    "    lstVowels = \"AaEeIiOoUu\"\n",
    "    lstOutput=[1 for Vowel in lstVowels if Vowel==char]\n",
    "    bOut = bool(sum(lstOutput))\n",
    "    return bOut   \n",
    "\n",
    "# Call isVowel\n",
    "strInput=input('Enter a chatacher: \\t')\n",
    "print('Is the char vowel?\\t',isVowel(strInput))"
   ]
  }
 ],
 "metadata": {
  "kernelspec": {
   "display_name": "Python 3",
   "language": "python",
   "name": "python3"
  },
  "language_info": {
   "codemirror_mode": {
    "name": "ipython",
    "version": 3
   },
   "file_extension": ".py",
   "mimetype": "text/x-python",
   "name": "python",
   "nbconvert_exporter": "python",
   "pygments_lexer": "ipython3",
   "version": "3.6.5"
  }
 },
 "nbformat": 4,
 "nbformat_minor": 2
}
